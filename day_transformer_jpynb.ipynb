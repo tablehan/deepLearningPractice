{
  "nbformat": 4,
  "nbformat_minor": 0,
  "metadata": {
    "colab": {
      "provenance": [],
      "collapsed_sections": [],
      "mount_file_id": "1H0tUJdvb8bC5Fb20w0APgLb-1RjLmXn0",
      "authorship_tag": "ABX9TyO35hcDPxxf7ZW9BDxM72hB",
      "include_colab_link": true
    },
    "kernelspec": {
      "name": "python3",
      "display_name": "Python 3"
    },
    "language_info": {
      "name": "python"
    }
  },
  "cells": [
    {
      "cell_type": "markdown",
      "metadata": {
        "id": "view-in-github",
        "colab_type": "text"
      },
      "source": [
        "<a href=\"https://colab.research.google.com/github/tablehan/deepLearningPractice/blob/main/day_transformer_jpynb.ipynb\" target=\"_parent\"><img src=\"https://colab.research.google.com/assets/colab-badge.svg\" alt=\"Open In Colab\"/></a>"
      ]
    },
    {
      "cell_type": "code",
      "execution_count": 59,
      "metadata": {
        "id": "jhacSxK798UW"
      },
      "outputs": [],
      "source": [
        "import numpy as np\n",
        "import pandas as pd\n",
        "import datetime\n",
        "import os"
      ]
    },
    {
      "cell_type": "code",
      "source": [
        "def day_transformer(dir_path):\n",
        "  files = os.listdir(dir_path)\n",
        "  for f in files:\n",
        "    if \".csv\" in f:\n",
        "      #print(dir_path+f)\n",
        "      df = pd.read_csv(dir_path+f,usecols=[\"open_time\",\"open\",\"high\",\"low\",\"close\",\"volume\"])\n",
        "      df[\"open_day\"]=df[\"open_time\"].apply(lambda x: str(datetime.datetime.fromtimestamp(x//int(1e3))).split()[0])\n",
        "      df2=df.groupby(\"open_day\")\n",
        "      df_group=pd.concat([ df2.first()[\"open\"],\n",
        "          df2.max()[\"high\"],\n",
        "          df2.min()[\"low\"],\n",
        "          df2.last()[\"close\"],\n",
        "          df2.sum()[\"volume\"]],axis=1).round(5)\n",
        "      #print(df_group)\n",
        "      df_group.to_csv(dir_path+\"daily_\"+f)"
      ],
      "metadata": {
        "id": "4i-hFqNnA3RA"
      },
      "execution_count": 60,
      "outputs": []
    },
    {
      "cell_type": "code",
      "source": [
        "if __name__==\"__main__\":\n",
        "  day_transformer(dir_path=\"/content/drive/MyDrive/tempdata/\")"
      ],
      "metadata": {
        "id": "sJlDjfI4K0md"
      },
      "execution_count": 62,
      "outputs": []
    }
  ]
}